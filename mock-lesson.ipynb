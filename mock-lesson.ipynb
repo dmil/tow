{
 "cells": [
  {
   "cell_type": "markdown",
   "id": "d852fbc2",
   "metadata": {},
   "source": [
    "# Command Line (Abridged Lesson)\n",
    "\n",
    "- Full lesson plan is available in the code4policy [GitHub repo](https://github.com/code4policy/modules)\n",
    "- \"Flipped Classroom\" video available on [Panopto](https://harvard.hosted.panopto.com/Panopto/Pages/Viewer.aspx?id=301dc6aa-8418-4872-ae10-ac9d0065911f) or [YouTube](https://www.youtube.com/watch?v=YsYWJWCNR_0)\n",
    "\n",
    "Sandbox Command Line: \n",
    "\n",
    "http://ec2-34-230-40-208.compute-1.amazonaws.com\n"
   ]
  },
  {
   "cell_type": "markdown",
   "id": "af847fe4",
   "metadata": {},
   "source": [
    "# Learning Objectives\n",
    "\n",
    "- [ ] Building a \"mental model\" as you type commands\n",
    "- [ ] Using precise language as we talk about technical concepts\n",
    "- [ ] Reading technical documentation\n"
   ]
  },
  {
   "cell_type": "markdown",
   "id": "768072f6",
   "metadata": {},
   "source": [
    "# Introduction\n"
   ]
  },
  {
   "cell_type": "markdown",
   "id": "0fbf8813",
   "metadata": {},
   "source": [
    "### What is the command line?\n",
    "The Command Line Interface (CLI) is a way of interacting with your computer using text-based commands. This is also referred to as a Text User Interface (TUI) which is different from the way most people interact with their computers, using their mouse and a Graphical User Interface (GUI).\n"
   ]
  },
  {
   "cell_type": "markdown",
   "id": "1b209fcb",
   "metadata": {},
   "source": [
    "### Why should I use it?\n",
    "Once you become comfortable with the basics, it can be a more powerful way to use your computer. You're able to do many things more quickly and *programatically*. It is especially useful if you need to do something repetitively or in bulk. Even if you never use the command line again after this class, it can help you understand how software works at a more fundamental level.\n"
   ]
  },
  {
   "cell_type": "markdown",
   "id": "194b12e6",
   "metadata": {},
   "source": [
    "### Example Use Cases\n",
    "- find all files in a folder that contain a phrase\n",
    "- rename several files at the same time\n",
    "- resize or crop several images or pdfs\n",
    "- download a [list of urls](https://projects.propublica.org/represent/expenditures)\n"
   ]
  },
  {
   "cell_type": "markdown",
   "id": "d8812b1c",
   "metadata": {},
   "source": [
    "# Anatomy of a Command\n",
    "`<command> -<options> <arguments>`\n",
    "\n",
    "* `<command>` is the action we want the computer to take. This is the program that you are running.\n",
    "* `<options>` (or \"flags\") modify the behavior of the command\n",
    "* `<arguments>` (or positional arguments) are the things we want the command to act on. They are the \"inputs\" to the program that you are running. \n",
    "\n",
    "You can view the manual for a command by typing `man <command>`. Sometimes, you can view a help page by typing `<command> --help`.\n"
   ]
  },
  {
   "cell_type": "markdown",
   "id": "b6b827bb",
   "metadata": {},
   "source": [
    "# Basic Commands\n",
    "\n",
    "Now that you have an understanding of option/flags vs. positional arguments, let's check out some other basic commands you can use on the command line.\n"
   ]
  },
  {
   "cell_type": "markdown",
   "id": "463dd3c4",
   "metadata": {},
   "source": [
    "\n",
    "### `echo`\n",
    "* prints a text string (denoted by quotes) to the terminal\n",
    "* usage: `echo \"Hello, World\"`\n"
   ]
  },
  {
   "cell_type": "markdown",
   "id": "1e5afa4d",
   "metadata": {},
   "source": [
    "### `man`\n",
    "* shows you the **man**ual page - get help on how to use any command\n",
    "* usage: `man <name_of_command>`\n"
   ]
  },
  {
   "cell_type": "markdown",
   "id": "395b809a",
   "metadata": {},
   "source": [
    "##### 🔧 Let's do it together!\n",
    "\n",
    "_Type commands in the cell below under `%%bash`, then run the cell. Make sure you don't delete `%%bash`, that tells the notebook that we're about to write terminal commands._\n"
   ]
  },
  {
   "cell_type": "code",
   "execution_count": 20,
   "id": "2245464a",
   "metadata": {},
   "outputs": [],
   "source": [
    "%%bash\n",
    "\n",
    "# Type commands below 👇 and run this cell to see the output"
   ]
  },
  {
   "cell_type": "markdown",
   "id": "fdfca18c",
   "metadata": {},
   "source": [
    "... **The remaining basic commands have been removed, as this is an abridged mock-lesson!**"
   ]
  },
  {
   "cell_type": "markdown",
   "id": "a2f111d2",
   "metadata": {},
   "source": [
    "# More  Example Commands"
   ]
  },
  {
   "cell_type": "markdown",
   "id": "816bac28",
   "metadata": {},
   "source": [
    "\n",
    "#### `df`\n",
    "\n",
    "As an example, let's take disect the `df` (disk free) command. This command shows how much disk space is used and remaining on your computer.\n",
    "\n",
    "If you run\n",
    "\n",
    "```\n",
    "df\n",
    "```\n",
    "\n",
    "by itself, it will show you a result that looks similar to:\n",
    "\n",
    "```\n",
    "Filesystem    512-blocks      Used Available Capacity iused               ifree %iused  Mounted on\n",
    "/dev/disk1s1   488555536 438995376  33577784    93% 3186543 9223372036851589264    0%   /\n",
    "devfs                411       411         0   100%     712                   0  100%   /dev\n",
    "/dev/disk1s4   488555536  14681200  33577784    31%       7 9223372036854775800    0%   /private/var/vm\n",
    "map -hosts             0         0         0   100%       0                   0  100%   /net\n",
    "map auto_home          0         0         0   100%       0                   0  100%   /home\n",
    "```\n",
    "\n",
    "The output isn't all that readable. I don't know how to translate how \"512-blocks\" to gigabytes in my head.\n",
    "\n",
    "We can use the `-h` option/flag to make the output human readable text.\n",
    "\n",
    "```\n",
    "df -h\n",
    "```\n",
    "\n",
    "The output now looks like this:\n",
    "\n",
    "```\n",
    "Filesystem      Size   Used  Avail Capacity iused               ifree %iused  Mounted on\n",
    "/dev/disk1s1   233Gi  209Gi   16Gi    93% 3186562 9223372036851589245    0%   /\n",
    "devfs          206Ki  206Ki    0Bi   100%     712                   0  100%   /dev\n",
    "/dev/disk1s4   233Gi  7.0Gi   16Gi    31%       7 9223372036854775800    0%   /private/var/vm\n",
    "map -hosts       0Bi    0Bi    0Bi   100%       0                   0  100%   /net\n",
    "map auto_home    0Bi    0Bi    0Bi   100%       0                   0  100%   /home\n",
    "```\n",
    "\n",
    "We can see above that I only have 16 gigabytes remaining on my main hard drive. Yikes!\n"
   ]
  },
  {
   "cell_type": "markdown",
   "id": "cca352bf",
   "metadata": {},
   "source": [
    "#### `ping`\n",
    "\n",
    "Let's also disect the `ping` command. You might hear people in normal converation saying \"Can you *ping* me when you're back in the office?\". The word originates from this old unix command. `ping` sends packets of data to an ip address every few seconds in order to check for a response. One use case for this this command can be used to check if a website is down or not or see how quickly it responds.\n",
    "\n",
    "In this command, we'll start by using a single position argument.\n",
    "\n",
    "```\n",
    "ping google.com\n",
    "```\n",
    "\n",
    "You can see a response that looks like:\n",
    "\n",
    "```\n",
    "PING google.com (172.217.12.142): 56 data bytes\n",
    "64 bytes from 172.217.12.142: icmp_seq=0 ttl=55 time=14.140 ms\n",
    "64 bytes from 172.217.12.142: icmp_seq=1 ttl=55 time=18.354 ms\n",
    "64 bytes from 172.217.12.142: icmp_seq=2 ttl=55 time=12.728 ms\n",
    "64 bytes from 172.217.12.142: icmp_seq=3 ttl=55 time=18.537 ms\n",
    "64 bytes from 172.217.12.142: icmp_seq=4 ttl=55 time=12.509 ms\n",
    "64 bytes from 172.217.12.142: icmp_seq=5 ttl=55 time=14.982 ms\n",
    "64 bytes from 172.217.12.142: icmp_seq=6 ttl=55 time=11.185 ms\n",
    "64 bytes from 172.217.12.142: icmp_seq=7 ttl=55 time=26.755 ms\n",
    "64 bytes from 172.217.12.142: icmp_seq=8 ttl=55 time=11.612 ms\n",
    "64 bytes from 172.217.12.142: icmp_seq=9 ttl=55 time=10.857 ms\n",
    "64 bytes from 172.217.12.142: icmp_seq=10 ttl=55 time=13.876 ms\n",
    "...\n",
    "```\n",
    "\n",
    "This command will keep going on forever sending packets of data to google.com and getting back a response each time. If we want the command to terminate after some number of iterations, we can use the `-c` count option/flag.\n",
    "\n",
    "```\n",
    "ping -c 5 google.com\n",
    "```\n",
    "\n",
    "Another option on `ping` is `-a` which makes each ping audible.\n",
    "\n",
    "```\n",
    "ping -a google.com\n",
    "```\n",
    "\n",
    "You can also have multiple options at the same time.\n",
    "\n",
    "```\n",
    "ping -a -c 5 google.com\n",
    "```\n",
    "\n",
    "This command can also be written as `ping -ac 5 google.com` as a shorthand, but make sure the 5 comes after the `-c`.\n",
    "\n",
    "Another option that can be used with `ping` is the `-i` (interval) option. This will cause ping to wait some number of seconds between each iteration.\n",
    "\n",
    "```\n",
    "ping -ai 2 -c 5 google.com\n",
    "```\n",
    "\n",
    "You can use the `man` command to understand all the different options that can be used with `ping`.\n",
    "\n",
    "```\n",
    "man ping\n",
    "```\n",
    "\n",
    "Use your arrow keys to move up and down and press `q` to exit the man page.\n"
   ]
  },
  {
   "cell_type": "markdown",
   "id": "854cd2ae",
   "metadata": {},
   "source": [
    "# Figuring out New Commands\n",
    "\n",
    "### You can always check the manual page for complete documentation\n",
    "for a given command, its usually either\n",
    "\n",
    "- `man <command>`\n",
    "- `<command> --help`\n",
    "- or `<command> -h`\n",
    "\n",
    "### if its not easy to figure out from there, try Google\n",
    "[https://www.google.com/](https://www.google.com/)\n",
    "### ...StackOverflow is also your friend\n",
    "[http://stackoverflow.com/](http://stackoverflow.com/)\n",
    "### also, know when to reach out to someone...\n",
    "don't go down rabbit holes trying to figure something out if there is someone who knows better nearby and you've already tried the three things above, they might be able to save you a lot of stress. I'm always happy to help out.\n"
   ]
  },
  {
   "cell_type": "markdown",
   "id": "30320fea",
   "metadata": {},
   "source": [
    "# 🔧 Now you try it!\n",
    "\n",
    "Let's see if you can learn how to use a new command! This next command is called `cowsay`, it is similar to the \"echo\" command we saw earlier, except instead of just printing text, it prints it in a word bubble for this ASCII cow.\n",
    "\n",
    "In the example below, I run the **command** `cowsay` with the **argument** \"hello, world\"\n",
    "\n",
    "\n",
    "```bash\n",
    "cowsay \"hello, word\"\n",
    "```\n",
    "\n",
    "and get the following output:\n",
    "\n",
    "```\n",
    "\n",
    " _____________\n",
    "< hello, word >\n",
    " -------------\n",
    "        \\   ^__^\n",
    "         \\  (oo)\\_______\n",
    "            (__)\\       )\\/\\\n",
    "                ||----w |\n",
    "                ||     ||\n",
    "```\n",
    "\n",
    "\n",
    "Experiment working with `cowsay` in the command line by completing the following assignment:\n",
    "\n",
    "### Tasks\n",
    "\n",
    "_hint: Don't forget, you can check the manual page for cowsay by running the `man` command with `cowsay` as the argument._\n"
   ]
  },
  {
   "cell_type": "code",
   "execution_count": 16,
   "id": "3eb5688c",
   "metadata": {},
   "outputs": [],
   "source": [
    "%%bash\n",
    "\n",
    "# Type commands below 👇 and run this cell to see the output"
   ]
  },
  {
   "cell_type": "markdown",
   "id": "aa14d4d7",
   "metadata": {},
   "source": [
    "### Tasks\n",
    "1. Make cow say: \"Coding is Journalism\"\n",
    "\n",
    "2. Make a dead cow say the same text\n",
    "\n",
    "3. Make cow say \"moo\" with eyes changed to \"zz\"\n",
    "\n",
    "4. Make cow say \"moo\" with tongue changed to \"$$\". \n",
    "   _(hint: is it not displaying properly? Google \"escaping characters in bash\")_\n",
    "\n",
    "5. Make cow say \"moo\" with eyes changed to \"zz\" AND tongue changed to \"$$\"\n",
    "\n",
    "6. Make cow think \"Coding is Journalism\" with thought bubble wrapping every 4 characters\n",
    "\n",
    "7. (bonus task) Turn cow into a moose that says \"Hello, world!\"\n",
    "\n",
    "8. (bonus task) Turn cow into a fox that says \"Hello, world!\" \n",
    "_(hint: You'll have to install a new cow - https://raw.githubusercontent.com/paulkaefer/cowsay-files/master/cows/fox.cow)_\n"
   ]
  },
  {
   "cell_type": "markdown",
   "id": "afc52f02",
   "metadata": {},
   "source": [
    "# Homework\n",
    "\n",
    "**Removed from abridged lesson.**\n",
    "\n",
    "In a longer class, students would also have learned a few additional commands to do tasks like download data or run programs. Homework would be a task that is more contextually relevant than `cowsay`, for example, using the command line to download several datafiles from ProPublica and run a short python program that analyzes the data.\n",
    "\n",
    "Instructions on how to do this would be intentionally vague. I would provide students with the names of the commands that they need, and they would have to figure out how to use them to accomplish the task using the strategies in the \"Figuring Out New Commands\" section."
   ]
  }
 ],
 "metadata": {
  "kernelspec": {
   "display_name": "Python 3",
   "language": "python",
   "name": "python3"
  },
  "language_info": {
   "codemirror_mode": {
    "name": "ipython",
    "version": 3
   },
   "file_extension": ".py",
   "mimetype": "text/x-python",
   "name": "python",
   "nbconvert_exporter": "python",
   "pygments_lexer": "ipython3",
   "version": "3.9.2"
  }
 },
 "nbformat": 4,
 "nbformat_minor": 5
}
